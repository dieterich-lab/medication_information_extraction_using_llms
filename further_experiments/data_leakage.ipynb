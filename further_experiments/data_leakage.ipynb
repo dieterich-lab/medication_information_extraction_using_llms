{
 "cells": [
  {
   "cell_type": "markdown",
   "metadata": {},
   "source": [
    "# Testing Llama 3.1 8b for n2c2 data leakage (manuscript appendix D)"
   ]
  },
  {
   "cell_type": "code",
   "execution_count": null,
   "metadata": {},
   "outputs": [],
   "source": [
    "# Load libraries\n",
    "import random, torch, difflib, numpy as np\n",
    "from unsloth import FastLanguageModel\n",
    "from datasets import load_dataset\n",
    "import tqdm"
   ]
  },
  {
   "cell_type": "code",
   "execution_count": null,
   "metadata": {},
   "outputs": [],
   "source": [
    "# Define the n2c2 2018 track 2 folder\n",
    "data_dir = \"/prj/doctoral_letters/notebooks/MIEQA/i2b22018/n2c2_2018_track2/\""
   ]
  },
  {
   "cell_type": "code",
   "execution_count": null,
   "metadata": {},
   "outputs": [],
   "source": [
    "DEVICE = 'cuda'\n",
    "SAMPLE_SIZE = 20\n",
    "SEED = 42\n",
    "random.seed(SEED); torch.manual_seed(SEED)\n",
    "\n",
    "# Load Llama-3·1\n",
    "\n",
    "MODEL_NAME = \"meta-llama/Meta-Llama-3.1-8B\"\n",
    "model, tokenizer = FastLanguageModel.from_pretrained(\n",
    "      model_name       = MODEL_NAME,\n",
    "      max_seq_length   = 2048,\n",
    "      load_in_4bit     = False,\n",
    "      dtype            = None,\n",
    ")\n",
    "FastLanguageModel.for_inference(model)"
   ]
  },
  {
   "cell_type": "code",
   "execution_count": null,
   "metadata": {},
   "outputs": [],
   "source": [
    "# Load n2c2 2018 Track2 data\n",
    "dataset = load_dataset(\n",
    "    \"bigbio/n2c2_2018_track2\",\n",
    "    name=\"n2c2_2018_track2_source\",\n",
    "    data_dir=data_dir\n",
    ")[\"train\"]"
   ]
  },
  {
   "cell_type": "code",
   "execution_count": null,
   "metadata": {},
   "outputs": [],
   "source": [
    "notes = [record[\"text\"] for record in dataset]\n",
    "sampled_notes = random.sample(notes, k=SAMPLE_SIZE)"
   ]
  },
  {
   "cell_type": "code",
   "execution_count": null,
   "metadata": {},
   "outputs": [],
   "source": [
    "# Helper functions\n",
    "def slice_mid(tokens, keep=50):\n",
    "    m = len(tokens) // 2\n",
    "    return tokens[m - keep // 2 : m + keep // 2]\n",
    "\n",
    "def prepare_prompt(text, slice_len=50):\n",
    "    tokens = text.split()\n",
    "    prompt = \" \".join(slice_mid(tokens, slice_len)) + \"\\n\"\n",
    "    gold   = \" \".join(tokens[len(tokens)//2 + slice_len//2 :])\n",
    "    return prompt, gold\n",
    "\n",
    "@torch.inference_mode()\n",
    "def greedy_generate(prompt, max_new=256):\n",
    "    ids = tokenizer(prompt, return_tensors=\"pt\").to(DEVICE)\n",
    "    out = model.generate(**ids, max_new_tokens=max_new, do_sample=False)\n",
    "    return tokenizer.decode(out[0][ids.input_ids.size(1):], skip_special_tokens=True)\n",
    "\n",
    "def longest_exact_match(a, b, min_run=20):\n",
    "    m = difflib.SequenceMatcher(None, a.split(), b.split())\n",
    "    runs = [size for _,_,size in m.get_matching_blocks() if size >= min_run]\n",
    "    return max(runs) if runs else 0"
   ]
  },
  {
   "cell_type": "code",
   "execution_count": null,
   "metadata": {},
   "outputs": [],
   "source": [
    "# Memorisation test  +  DEBUG PRINTS\n",
    "DEBUG_N = 5\n",
    "\n",
    "hits = 0\n",
    "for idx, note in tqdm.tqdm(enumerate(sampled_notes)):\n",
    "    prompt, gold = prepare_prompt(note)\n",
    "    gen = greedy_generate(prompt)\n",
    "\n",
    "    if idx < DEBUG_N:\n",
    "        print(\"=\"*70)\n",
    "        print(f\"SAMPLE {idx+1}/{SAMPLE_SIZE}\")\n",
    "        print(\"- PROMPT (50-token slice) -\")\n",
    "        print(prompt.strip())\n",
    "        print(\"- GENERATED CONTINUATION (first 20 chars) -\")\n",
    "        print(gen.strip()[:20])\n",
    "        print(\"- EXPECTED GOLD CONTINUATION (first 20 chars) -\")\n",
    "        print(gold.strip()[:20])\n",
    "        print()\n",
    "\n",
    "    if longest_exact_match(gen, gold) >= 20:\n",
    "        hits += 1\n",
    "\n",
    "print(\"=\"*70)\n",
    "print(f\"Verbatim ≥20-token continuations: {hits}/{SAMPLE_SIZE}\")"
   ]
  }
 ],
 "metadata": {
  "kernelspec": {
   "display_name": "Python 3 (ipykernel)",
   "language": "python",
   "name": "python3"
  },
  "language_info": {
   "codemirror_mode": {
    "name": "ipython",
    "version": 3
   },
   "file_extension": ".py",
   "mimetype": "text/x-python",
   "name": "python",
   "nbconvert_exporter": "python",
   "pygments_lexer": "ipython3",
   "version": "3.11.2"
  }
 },
 "nbformat": 4,
 "nbformat_minor": 4
}
